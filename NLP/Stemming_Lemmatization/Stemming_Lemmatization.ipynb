{
 "cells": [
  {
   "cell_type": "code",
   "execution_count": null,
   "id": "a1e76fe3",
   "metadata": {},
   "outputs": [],
   "source": []
  },
  {
   "cell_type": "code",
   "execution_count": 1,
   "id": "b3acf646",
   "metadata": {},
   "outputs": [
    {
     "name": "stdout",
     "output_type": "stream",
     "text": [
      "Original Words:  ['playing', 'played', 'plays', 'playful']\n",
      "Stemmed Words:  ['play', 'play', 'play', 'play']\n"
     ]
    }
   ],
   "source": [
    "# Stemming (using PorterStemmer)\n",
    "from nltk.stem import PorterStemmer\n",
    "\n",
    "# create an instance of the PorterStemmer\n",
    "stemmer = PorterStemmer()\n",
    "\n",
    "# example words to stem\n",
    "words = ['playing', 'played', 'plays', 'playful']\n",
    "\n",
    "# stem the words using the PorterStemmer\n",
    "stemmed_words = [stemmer.stem(word) for word in words]\n",
    "\n",
    "# print the original words and the stemmed words\n",
    "print('Original Words: ', words)\n",
    "print('Stemmed Words: ', stemmed_words)\n"
   ]
  },
  {
   "cell_type": "code",
   "execution_count": null,
   "id": "85b4c35b",
   "metadata": {},
   "outputs": [],
   "source": []
  },
  {
   "cell_type": "code",
   "execution_count": 2,
   "id": "d34b9a33",
   "metadata": {},
   "outputs": [
    {
     "name": "stdout",
     "output_type": "stream",
     "text": [
      "Original Sentence:  The cats were playing with each other and having fun.\n",
      "Lemmatized Words:  ['The', 'cat', 'be', 'play', 'with', 'each', 'other', 'and', 'have', 'fun.']\n"
     ]
    }
   ],
   "source": [
    "# Lemmatization (using textblob)\n",
    "from textblob import Word\n",
    "\n",
    "# example sentence to lemmatize\n",
    "sentence = \"The cats were playing with each other and having fun.\"\n",
    "\n",
    "# tokenize the sentence\n",
    "words = sentence.split()\n",
    "\n",
    "\n",
    "# lemmatize the words using the TextBlob lemmatizer\n",
    "lemmatized_words = [Word(word).lemmatize('v') for word in words]\n",
    "\n",
    "# print the original sentence and the lemmatized words\n",
    "print('Original Sentence: ', sentence)\n",
    "print('Lemmatized Words: ', lemmatized_words)\n"
   ]
  },
  {
   "cell_type": "code",
   "execution_count": null,
   "id": "b2477427",
   "metadata": {},
   "outputs": [],
   "source": []
  }
 ],
 "metadata": {
  "kernelspec": {
   "display_name": "Python 3 (ipykernel)",
   "language": "python",
   "name": "python3"
  },
  "language_info": {
   "codemirror_mode": {
    "name": "ipython",
    "version": 3
   },
   "file_extension": ".py",
   "mimetype": "text/x-python",
   "name": "python",
   "nbconvert_exporter": "python",
   "pygments_lexer": "ipython3",
   "version": "3.9.12"
  }
 },
 "nbformat": 4,
 "nbformat_minor": 5
}
