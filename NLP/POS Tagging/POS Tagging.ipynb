{
 "cells": [
  {
   "cell_type": "code",
   "execution_count": null,
   "id": "e38d8db7",
   "metadata": {},
   "outputs": [],
   "source": []
  },
  {
   "cell_type": "code",
   "execution_count": 1,
   "id": "ea446bc7",
   "metadata": {},
   "outputs": [
    {
     "name": "stdout",
     "output_type": "stream",
     "text": [
      "[('This', 'DT'), ('is', 'VBZ'), ('a', 'DT'), ('sample', 'JJ'), ('text', 'NN'), ('.', '.')]\n",
      "[('It', 'PRP'), ('contains', 'VBZ'), ('multiple', 'JJ'), ('sentences', 'NNS'), ('.', '.')]\n"
     ]
    },
    {
     "name": "stderr",
     "output_type": "stream",
     "text": [
      "[nltk_data] Error loading punkt: <urlopen error [WinError 10060] A\n",
      "[nltk_data]     connection attempt failed because the connected party\n",
      "[nltk_data]     did not properly respond after a period of time, or\n",
      "[nltk_data]     established connection failed because connected host\n",
      "[nltk_data]     has failed to respond>\n"
     ]
    }
   ],
   "source": [
    "# POS Tagging (NLTK library)\n",
    "\n",
    "# Importing necessary libraries\n",
    "import nltk\n",
    "nltk.download('punkt') # download required resources\n",
    "\n",
    "# tokenize the text into sentences\n",
    "sentences = nltk.sent_tokenize(\"This is a sample text. It contains multiple sentences.\")\n",
    "\n",
    "# tokenize each sentence into words and perform POS tagging\n",
    "for sentence in sentences:\n",
    "    words = nltk.word_tokenize(sentence)\n",
    "    pos_tags = nltk.pos_tag(words)\n",
    "    print(pos_tags)\n"
   ]
  },
  {
   "cell_type": "code",
   "execution_count": 6,
   "id": "98d094b9",
   "metadata": {},
   "outputs": [
    {
     "name": "stdout",
     "output_type": "stream",
     "text": [
      "Sentence: This is a sample text.\n",
      "Word: This \t POS Tag: DT\n",
      "Word: is \t POS Tag: VBZ\n",
      "Word: a \t POS Tag: DT\n",
      "Word: sample \t POS Tag: JJ\n",
      "Word: text \t POS Tag: NN\n",
      "Sentence: It contains multiple sentences.\n",
      "Word: It \t POS Tag: PRP\n",
      "Word: contains \t POS Tag: VBZ\n",
      "Word: multiple \t POS Tag: JJ\n",
      "Word: sentences \t POS Tag: NNS\n"
     ]
    }
   ],
   "source": [
    "# POS Tagging (text-blob library)\n",
    "\n",
    "# Importing necessary libraries\n",
    "from textblob import TextBlob\n",
    "\n",
    "# create a TextBlob object\n",
    "text = \"This is a sample text. It contains multiple sentences.\"\n",
    "blob = TextBlob(text)\n",
    "\n",
    "# iterate over each sentence in the TextBlob and print its POS tags\n",
    "for sentence in blob.sentences:\n",
    "    print(\"Sentence:\", sentence)\n",
    "    for word, pos in sentence.tags:\n",
    "        print(\"Word:\", word, \"\\t POS Tag:\", pos)\n"
   ]
  },
  {
   "cell_type": "code",
   "execution_count": null,
   "id": "56c14b7c",
   "metadata": {},
   "outputs": [],
   "source": []
  }
 ],
 "metadata": {
  "kernelspec": {
   "display_name": "Python 3 (ipykernel)",
   "language": "python",
   "name": "python3"
  },
  "language_info": {
   "codemirror_mode": {
    "name": "ipython",
    "version": 3
   },
   "file_extension": ".py",
   "mimetype": "text/x-python",
   "name": "python",
   "nbconvert_exporter": "python",
   "pygments_lexer": "ipython3",
   "version": "3.9.12"
  }
 },
 "nbformat": 4,
 "nbformat_minor": 5
}
