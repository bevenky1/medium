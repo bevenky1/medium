{
 "cells": [
  {
   "cell_type": "code",
   "execution_count": null,
   "id": "62858534",
   "metadata": {},
   "outputs": [],
   "source": []
  },
  {
   "cell_type": "markdown",
   "id": "4d3995aa",
   "metadata": {},
   "source": [
    "### Word based tokenization"
   ]
  },
  {
   "cell_type": "code",
   "execution_count": 1,
   "id": "6550e599",
   "metadata": {},
   "outputs": [
    {
     "name": "stdout",
     "output_type": "stream",
     "text": [
      "['This', 'is', 'an', 'example', 'sentence', 'for', 'tokenization.']\n"
     ]
    }
   ],
   "source": [
    "# Define a text string\n",
    "text = \"This is an example sentence for tokenization.\"\n",
    "\n",
    "# Tokenize the text using the split() function\n",
    "tokens = text.split()\n",
    "\n",
    "# Print the resulting tokens\n",
    "print(tokens)\n"
   ]
  },
  {
   "cell_type": "markdown",
   "id": "407db93f",
   "metadata": {},
   "source": [
    "### character based tokenization"
   ]
  },
  {
   "cell_type": "code",
   "execution_count": 2,
   "id": "2be39d99",
   "metadata": {},
   "outputs": [
    {
     "name": "stdout",
     "output_type": "stream",
     "text": [
      "['T', 'h', 'i', 's', ' ', 'i', 's', ' ', 'a', 'n', ' ', 'e', 'x', 'a', 'm', 'p', 'l', 'e', ' ', 's', 'e', 'n', 't', 'e', 'n', 'c', 'e', ' ', 'f', 'o', 'r', ' ', 'c', 'h', 'a', 'r', 'a', 'c', 't', 'e', 'r', '-', 'b', 'a', 's', 'e', 'd', ' ', 't', 'o', 'k', 'e', 'n', 'i', 'z', 'a', 't', 'i', 'o', 'n', '.']\n"
     ]
    }
   ],
   "source": [
    "# Define a text string\n",
    "text = \"This is an example sentence for character-based tokenization.\"\n",
    "\n",
    "# Initialize an empty list to store tokens\n",
    "tokens = []\n",
    "\n",
    "# Iterate through each character in the text string\n",
    "for char in text:\n",
    "    # Add the character to the tokens list\n",
    "    tokens.append(char)\n",
    "\n",
    "# Print the resulting tokens\n",
    "print(tokens)\n"
   ]
  },
  {
   "cell_type": "markdown",
   "id": "eec2f567",
   "metadata": {},
   "source": [
    "### Sentence based tokenization"
   ]
  },
  {
   "cell_type": "code",
   "execution_count": 3,
   "id": "5bbf79f5",
   "metadata": {},
   "outputs": [
    {
     "name": "stdout",
     "output_type": "stream",
     "text": [
      "['This is an example sentence.', 'And this is another example sentence.']\n"
     ]
    }
   ],
   "source": [
    "# Import the NLTK library\n",
    "import nltk\n",
    "\n",
    "# Define a text string\n",
    "text = \"This is an example sentence. And this is another example sentence.\"\n",
    "\n",
    "# Tokenize the text into sentences using the sent_tokenize() function\n",
    "sentences = nltk.sent_tokenize(text)\n",
    "\n",
    "# Print the resulting sentences\n",
    "print(sentences)\n"
   ]
  },
  {
   "cell_type": "markdown",
   "id": "2ea12c0a",
   "metadata": {},
   "source": [
    "### Rule based tokenization"
   ]
  },
  {
   "cell_type": "code",
   "execution_count": 5,
   "id": "be96f9d0",
   "metadata": {},
   "outputs": [
    {
     "name": "stdout",
     "output_type": "stream",
     "text": [
      "['This', 'is', 'an', 'example', 'sentence', 'with', 'some', 'punctuation']\n"
     ]
    }
   ],
   "source": [
    "# Import regular expression library\n",
    "import re\n",
    "\n",
    "# Define a text string\n",
    "text = \"This is an example sentence, with some punctuation!\"\n",
    "\n",
    "# Define a custom delimiter for tokenization based on whitespace and punctuation\n",
    "delimiter = \" |\\n|,|!|\\?\"\n",
    "\n",
    "# Tokenize the text using the split() function and the delimiter\n",
    "tokens = re.split(delimiter, text)\n",
    "\n",
    "# Remove any empty tokens from the resulting list\n",
    "tokens = list(filter(None, tokens))\n",
    "\n",
    "# Print the resulting tokens\n",
    "print(tokens)\n"
   ]
  },
  {
   "cell_type": "code",
   "execution_count": null,
   "id": "af20d5b6",
   "metadata": {},
   "outputs": [],
   "source": []
  }
 ],
 "metadata": {
  "kernelspec": {
   "display_name": "Python 3 (ipykernel)",
   "language": "python",
   "name": "python3"
  },
  "language_info": {
   "codemirror_mode": {
    "name": "ipython",
    "version": 3
   },
   "file_extension": ".py",
   "mimetype": "text/x-python",
   "name": "python",
   "nbconvert_exporter": "python",
   "pygments_lexer": "ipython3",
   "version": "3.9.12"
  }
 },
 "nbformat": 4,
 "nbformat_minor": 5
}
