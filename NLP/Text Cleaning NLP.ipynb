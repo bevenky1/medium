{
 "cells": [
  {
   "cell_type": "code",
   "execution_count": null,
   "id": "19d1562c",
   "metadata": {},
   "outputs": [],
   "source": []
  },
  {
   "cell_type": "markdown",
   "id": "7e7abe75",
   "metadata": {},
   "source": [
    "### To remove html tags"
   ]
  },
  {
   "cell_type": "code",
   "execution_count": 1,
   "id": "aed01fe2",
   "metadata": {},
   "outputs": [
    {
     "name": "stdout",
     "output_type": "stream",
     "text": [
      "This is some bold text.\n"
     ]
    }
   ],
   "source": [
    "# To remove html tags\n",
    "\n",
    "# Importing BeautifulSoup library\n",
    "from bs4 import BeautifulSoup\n",
    "\n",
    "# Example HTML string\n",
    "html = \"<html><body><p>This is some <b>bold</b> text.</p></body></html>\"\n",
    "\n",
    "# Parse the HTML using Beautiful Soup\n",
    "soup = BeautifulSoup(html, 'html.parser')\n",
    "\n",
    "# Extract the text content without the HTML tags\n",
    "text = soup.get_text()\n",
    "\n",
    "# Print the cleaned text\n",
    "print(text)\n"
   ]
  },
  {
   "cell_type": "markdown",
   "id": "311a57ff",
   "metadata": {},
   "source": [
    "### To remove special characters"
   ]
  },
  {
   "cell_type": "code",
   "execution_count": 2,
   "id": "8550919b",
   "metadata": {},
   "outputs": [
    {
     "name": "stdout",
     "output_type": "stream",
     "text": [
      "This is an example text with some special characters \n",
      "\n"
     ]
    }
   ],
   "source": [
    "# To remove special characters\n",
    "\n",
    "# Importing Regular Expression library\n",
    "import re\n",
    "\n",
    "# Example text string with special characters\n",
    "text = \"This is an example text with some special characters! @#%^&*()_+={}[]|\\\\;:'\\\",.<>/?\\n\"\n",
    "\n",
    "# Remove special characters using regular expressions\n",
    "clean_text = re.sub('[^A-Za-z0-9\\s]*', '', text)\n",
    "\n",
    "# Print the cleaned text\n",
    "print(clean_text)\n"
   ]
  },
  {
   "cell_type": "code",
   "execution_count": 3,
   "id": "cff5e485",
   "metadata": {},
   "outputs": [
    {
     "name": "stdout",
     "output_type": "stream",
     "text": [
      "Here is an example text with some spelling errors\n"
     ]
    }
   ],
   "source": [
    "# To correct spelling mistakes\n",
    "\n",
    "# Importing SpellChecker library\n",
    "from spellchecker import SpellChecker\n",
    "\n",
    "# Create a SpellChecker object\n",
    "spell = SpellChecker()\n",
    "\n",
    "# Example text string with spelling errors\n",
    "text = \"Here is an examplee texxt withh somee spelilng errors\"\n",
    "\n",
    "# Split the text into words\n",
    "words = text.split()\n",
    "\n",
    "# Loop through each word and correct any spelling errors\n",
    "for i in range(len(words)):\n",
    "    \n",
    "    # Check if the word is misspelled\n",
    "    if spell.correction(words[i]) != words[i]:\n",
    "        \n",
    "        # If the word is misspelled, replace it with the corrected spelling\n",
    "        words[i] = spell.correction(words[i])\n",
    "\n",
    "# Join the corrected words back into a single string\n",
    "corrected_text = ' '.join(words)\n",
    "\n",
    "# Print the corrected text\n",
    "print(corrected_text)\n"
   ]
  },
  {
   "cell_type": "code",
   "execution_count": 4,
   "id": "89ef0ec8",
   "metadata": {},
   "outputs": [
    {
     "name": "stdout",
     "output_type": "stream",
     "text": [
      "<LEFTBRACKET>This is an<PERIOD> example text with<QUESTION> some punctuations in between<EXCLAMATION><RIGHTBRACKET>\n"
     ]
    }
   ],
   "source": [
    "# To replace punctuations\n",
    "\n",
    "# Importing Regular expression library\n",
    "import re\n",
    "\n",
    "# Example text string with punctuations\n",
    "text = \"[This is an. example text with? some punctuations in between!]\"\n",
    "\n",
    "# Define a mapping of punctuation to tokens\n",
    "punctuation_map = {\n",
    "    '.': '<PERIOD>',\n",
    "    ',': '<COMMA>',\n",
    "    ':': '<COLON>',\n",
    "    ';': '<SEMICOLON>',\n",
    "    '!': '<EXCLAMATION>',\n",
    "    '?': '<QUESTION>',\n",
    "    '-': '<DASH>',\n",
    "    '(': '<LEFTPAREN>',\n",
    "    ')': '<RIGHTPAREN>',\n",
    "    '[': '<LEFTBRACKET>',\n",
    "    ']': '<RIGHTBRACKET>',\n",
    "    '{': '<LEFTBRACE>',\n",
    "    '}': '<RIGHTBRACE>',\n",
    "    '\\\"': '<DOUBLEQUOTE>',\n",
    "    '\\'': '<SINGLEQUOTE>',\n",
    "    '`': '<BACKQUOTE>',\n",
    "    '~': '<TILDE>',\n",
    "    '@': '<AT>',\n",
    "    '#': '<HASHTAG>',\n",
    "    '$': '<DOLLAR>',\n",
    "    '%': '<PERCENT>',\n",
    "    '^': '<CARET>',\n",
    "    '&': '<AMPERSAND>',\n",
    "    '*': '<ASTERISK>',\n",
    "    '_': '<UNDERSCORE>',\n",
    "    '+': '<PLUS>',\n",
    "    '=': '<EQUALS>',\n",
    "    '/': '<SLASH>',\n",
    "    '\\\\': '<BACKSLASH>',\n",
    "    '|': '<PIPE>',\n",
    "    '<': '<LESSTHAN>',\n",
    "    '>': '<GREATERTHAN>'\n",
    "}\n",
    "\n",
    "# Replace punctuation using mapping dictionary and regular expressions\n",
    "clean_text = re.sub(r'[^\\w\\s]', lambda x: punctuation_map[x.group()], text)\n",
    "\n",
    "# Print the replaced text\n",
    "print(clean_text)"
   ]
  },
  {
   "cell_type": "code",
   "execution_count": 5,
   "id": "52276367",
   "metadata": {},
   "outputs": [],
   "source": [
    "# For example, if the regular expression pattern matches the punctuation mark\n",
    "# then x.group() will return the string. \n",
    "# This matched text is then used to look up the corresponding replacement value in the punctuation_map dictionary, \n",
    "# which is used to replace the punctuation mark in the cleaned text."
   ]
  },
  {
   "cell_type": "code",
   "execution_count": 6,
   "id": "3feab13a",
   "metadata": {},
   "outputs": [
    {
     "name": "stdout",
     "output_type": "stream",
     "text": [
      "example text want process remove stopwords from.\n"
     ]
    },
    {
     "name": "stderr",
     "output_type": "stream",
     "text": [
      "[nltk_data] Error loading stopwords: <urlopen error [WinError 10060] A\n",
      "[nltk_data]     connection attempt failed because the connected party\n",
      "[nltk_data]     did not properly respond after a period of time, or\n",
      "[nltk_data]     established connection failed because connected host\n",
      "[nltk_data]     has failed to respond>\n"
     ]
    }
   ],
   "source": [
    "# To remove stopwords\n",
    "\n",
    "# Importing nltk library\n",
    "import nltk\n",
    "nltk.download('stopwords')\n",
    "from nltk.corpus import stopwords\n",
    "\n",
    "# Define the text you want to process and convert it to lowercase\n",
    "text = \"This is an example of text that we want to process and remove stopwords from.\"\n",
    "text = text.lower()\n",
    "\n",
    "# Split the text into words\n",
    "words = text.split()\n",
    "\n",
    "# Remove the stopwords using a for loop and list comprehension\n",
    "words = [word for word in words if word not in stopwords.words('english')]\n",
    "\n",
    "# Join the remaining words back into a string\n",
    "processed_text = ' '.join(words)\n",
    "\n",
    "print(processed_text)\n"
   ]
  },
  {
   "cell_type": "code",
   "execution_count": null,
   "id": "52698c49",
   "metadata": {},
   "outputs": [],
   "source": []
  }
 ],
 "metadata": {
  "kernelspec": {
   "display_name": "Python 3 (ipykernel)",
   "language": "python",
   "name": "python3"
  },
  "language_info": {
   "codemirror_mode": {
    "name": "ipython",
    "version": 3
   },
   "file_extension": ".py",
   "mimetype": "text/x-python",
   "name": "python",
   "nbconvert_exporter": "python",
   "pygments_lexer": "ipython3",
   "version": "3.9.12"
  }
 },
 "nbformat": 4,
 "nbformat_minor": 5
}
