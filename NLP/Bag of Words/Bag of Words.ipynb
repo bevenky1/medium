{
 "cells": [
  {
   "cell_type": "code",
   "execution_count": 1,
   "id": "d71c8dc8",
   "metadata": {},
   "outputs": [
    {
     "name": "stdout",
     "output_type": "stream",
     "text": [
      "Vocabulary: ['bird', 'cat', 'dog', 'hat', 'in', 'mat', 'on', 'sky', 'the']\n",
      "BoW matrix:\n",
      " [[0 1 0 1 1 0 0 0 2]\n",
      " [0 0 1 0 0 1 1 0 2]\n",
      " [1 0 0 0 1 0 0 1 2]]\n"
     ]
    },
    {
     "name": "stderr",
     "output_type": "stream",
     "text": [
      "C:\\Users\\User\\anaconda3\\lib\\site-packages\\sklearn\\utils\\deprecation.py:87: FutureWarning: Function get_feature_names is deprecated; get_feature_names is deprecated in 1.0 and will be removed in 1.2. Please use get_feature_names_out instead.\n",
      "  warnings.warn(msg, category=FutureWarning)\n"
     ]
    }
   ],
   "source": [
    "from sklearn.feature_extraction.text import CountVectorizer\n",
    "\n",
    "# Create a corpus of sample documents\n",
    "corpus = [\n",
    "    \"The cat in the hat\",\n",
    "    \"The dog on the mat\",\n",
    "    \"The bird in the sky\",\n",
    "]\n",
    "\n",
    "# Create a CountVectorizer object to transform text into Bag-of-Words representation\n",
    "vectorizer = CountVectorizer()\n",
    "\n",
    "# Fit the vectorizer to the corpus and transform the corpus into a BoW matrix\n",
    "bow_matrix = vectorizer.fit_transform(corpus)\n",
    "\n",
    "# Print the vocabulary (unique words) learned by the vectorizer\n",
    "print('Vocabulary:', vectorizer.get_feature_names())\n",
    "\n",
    "# Print the BoW matrix as a dense matrix\n",
    "print('BoW matrix:\\n', bow_matrix.toarray())\n"
   ]
  },
  {
   "cell_type": "code",
   "execution_count": null,
   "id": "916b56e3",
   "metadata": {},
   "outputs": [],
   "source": []
  }
 ],
 "metadata": {
  "kernelspec": {
   "display_name": "Python 3 (ipykernel)",
   "language": "python",
   "name": "python3"
  },
  "language_info": {
   "codemirror_mode": {
    "name": "ipython",
    "version": 3
   },
   "file_extension": ".py",
   "mimetype": "text/x-python",
   "name": "python",
   "nbconvert_exporter": "python",
   "pygments_lexer": "ipython3",
   "version": "3.9.12"
  }
 },
 "nbformat": 4,
 "nbformat_minor": 5
}
